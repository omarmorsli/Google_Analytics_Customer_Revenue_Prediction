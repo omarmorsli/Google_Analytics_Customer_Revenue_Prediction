{
  "cells": [
    {
      "metadata": {
        "_uuid": "6481858ee665903db1ac3092232b9486b2ab90bf"
      },
      "cell_type": "markdown",
      "source": "### Dans ce notebook, nous nous sommes interéssés au revenue de chaque client de Google Store.  Nous allons constuire un modèle du machine learning, avec un rmse le plus petit possible,  qui prend comme input l'historique du client et qui prédit comme output son revenu. Pour cela nous allons suivre la méthodologie CRISP-DM illustrée ci-dessous:"
    },
    {
      "metadata": {
        "_uuid": "370c63e2435236a09419b2f4c18367e89de997c8"
      },
      "cell_type": "markdown",
      "source": "![CRISP-DM](https://ashwiniksite.files.wordpress.com/2017/05/datamining-process.png)"
    },
    {
      "metadata": {
        "_uuid": "022c433554fc49f24093f51f7b2f3890b30eff79"
      },
      "cell_type": "markdown",
      "source": "### Objectif: Prédire la variable log(1+revenu total d'un client donné)"
    },
    {
      "metadata": {
        "_uuid": "85e79cb2a35c4a52b9b929dc589b1280b6e1b6c5"
      },
      "cell_type": "markdown",
      "source": "## Import necessary packages"
    },
    {
      "metadata": {
        "_uuid": "8f2839f25d086af736a60e9eeb907d3b93b6e0e5",
        "_cell_guid": "b1076dfc-b9ad-4769-8c92-a6c4dae69d19",
        "trusted": true
      },
      "cell_type": "code",
      "source": "import numpy as np \nimport pandas as pd \nimport os\nprint(os.listdir(\"../input\"))\nimport json\nfrom pandas.io.json import json_normalize\nimport matplotlib.pyplot as plt\nimport seaborn as sns\n",
      "execution_count": null,
      "outputs": []
    },
    {
      "metadata": {
        "_cell_guid": "79c7e3d0-c299-4dcb-8224-4455121ee9b0",
        "_uuid": "d629ff2d2480ee46fbb7e2d37f6b5fab8052498a",
        "trusted": true
      },
      "cell_type": "code",
      "source": "def load_df(csv_path, nrows=None):\n    '''\n        csv_path --string-- path to data frame to read \n        returns: a dataFrame where Json columns are read correctly\n    '''\n    USE_COLUMNS = [\n        'channelGrouping', 'date', 'device', 'fullVisitorId', 'geoNetwork',\n        'socialEngagementType', 'totals', 'trafficSource', 'visitId',\n        'visitNumber', 'visitStartTime', 'customDimensions'\n        #'hits'\n    ]\n    JSON_COLUMNS = ['device', 'geoNetwork', 'totals', 'trafficSource']\n    \n    df = pd.read_csv(csv_path, \n                     converters={column: json.loads for column in JSON_COLUMNS}, \n                     dtype={'fullVisitorId': 'str'}, # Important!!\n                     nrows=nrows, usecols=USE_COLUMNS)\n    \n    for column in JSON_COLUMNS:\n        column_as_df = json_normalize(df[column])\n        column_as_df.columns = [f\"{column}.{subcolumn}\" for subcolumn in column_as_df.columns]\n        df = df.drop(column, axis=1).merge(column_as_df, right_index=True, left_index=True)\n    print(f\"Loaded {os.path.basename(csv_path)}. Shape: {df.shape}\")\n    return df",
      "execution_count": null,
      "outputs": []
    },
    {
      "metadata": {
        "_uuid": "0e261d3512899f9fd211570c400a4711434b0af3"
      },
      "cell_type": "markdown",
      "source": "## Loading the train and test dataFrames"
    },
    {
      "metadata": {
        "trusted": true,
        "_uuid": "b5118c0003c732e7e2592f2dcbc5c3ab7a7e3b35"
      },
      "cell_type": "code",
      "source": "%%time\ntrain_df = load_df(\"../input/train_v2.csv\")\ntest_df = load_df(\"../input/test_v2.csv\")",
      "execution_count": null,
      "outputs": []
    },
    {
      "metadata": {
        "_uuid": "3f2da71006ce98e0c6f929672b702a879f29de92"
      },
      "cell_type": "markdown",
      "source": "## Display the first five rows "
    },
    {
      "metadata": {
        "trusted": true,
        "_uuid": "6358b598afc34ff1e970202b053e35f68bcb4854"
      },
      "cell_type": "code",
      "source": "train_df.head()",
      "execution_count": null,
      "outputs": []
    },
    {
      "metadata": {
        "_uuid": "6be5e523681e3f77a1779220f08aa2ad05366916"
      },
      "cell_type": "markdown",
      "source": "# Data Preparation"
    },
    {
      "metadata": {
        "_uuid": "7cce8706deeee5c40d57a06e71b278192060d248"
      },
      "cell_type": "markdown",
      "source": "## 1) Feature Pre-Selection"
    },
    {
      "metadata": {
        "_kg_hide-input": false,
        "_kg_hide-output": false,
        "trusted": true,
        "_uuid": "4d2f58ceee49cc844d113b37cca22b33664e1c3d"
      },
      "cell_type": "code",
      "source": "print(\"these columns are in train dataFrame but not in test dataFrame \\n:\",train_df.columns.difference(test_df.columns))\nprint(\"these columns are in test dataFrame but not in train dataFrame \\n:\",test_df.columns.difference(train_df.columns))",
      "execution_count": null,
      "outputs": []
    },
    {
      "metadata": {
        "_kg_hide-output": true,
        "trusted": true,
        "_uuid": "6bcdce06065407ca049577417d3448d8141716d3"
      },
      "cell_type": "code",
      "source": "#dropping this column\ntrain_df.drop(labels=['trafficSource.campaignCode'],axis=1, inplace = True)",
      "execution_count": null,
      "outputs": []
    },
    {
      "metadata": {
        "_uuid": "2827253d9f4009dd6826bb67d57c69c3581be4fb"
      },
      "cell_type": "markdown",
      "source": "### Dropping columns with unique values"
    },
    {
      "metadata": {
        "trusted": true,
        "_uuid": "b4995af13179d18387d4229408dfa5fe885e5af2"
      },
      "cell_type": "code",
      "source": "print('Features with one unique values are :')\nprint(train_df.columns[train_df.nunique() == 1])\ntrain_df.drop(labels = train_df.columns[train_df.nunique() == 1],axis = 1, inplace = True)\ntest_df.drop(labels = train_df.columns[train_df.nunique() == 1],axis = 1,inplace = True)",
      "execution_count": null,
      "outputs": []
    },
    {
      "metadata": {
        "_uuid": "f77cd73a586360ceca2e0409c11cc950ab12d929"
      },
      "cell_type": "markdown",
      "source": "### Removing visitStartTime, isMobile, customDimensions, totals.totalTransactionRevenue"
    },
    {
      "metadata": {
        "trusted": true,
        "_uuid": "7a4adbeb4ea18626d19a19b0e1dc133e5dc55194"
      },
      "cell_type": "code",
      "source": "# Avoid Data Leakage\ntrain_df.drop(labels = ['visitId','visitStartTime'], axis = 1, inplace = True)\ntest_df.drop(labels = ['visitId','visitStartTime'], axis = 1, inplace = True)",
      "execution_count": null,
      "outputs": []
    },
    {
      "metadata": {
        "trusted": true,
        "_uuid": "2bb538d1c219bec5766304805f26055d59d236a0"
      },
      "cell_type": "code",
      "source": "#device.isMobile is a duplicate variable as the detail is covered in deviceCategory\ntrain_df.drop(labels=['device.isMobile'], axis=1, inplace = True)\ntest_df.drop(labels=['device.isMobile'], axis=1,inplace = True)",
      "execution_count": null,
      "outputs": []
    },
    {
      "metadata": {
        "trusted": true,
        "_uuid": "fbcafef4c6c4ba0b432c8e00fe730e2afebd9feb"
      },
      "cell_type": "code",
      "source": "train_df = train_df.drop(labels=['customDimensions','totals.totalTransactionRevenue'],axis=1)\ntest_df = test_df.drop(labels=['customDimensions','totals.transactionRevenue','totals.totalTransactionRevenue'],axis=1)",
      "execution_count": null,
      "outputs": []
    },
    {
      "metadata": {
        "_uuid": "89f2cbd11fab747cc6186926fb357498c53f3505"
      },
      "cell_type": "markdown",
      "source": "## 2) Missing values"
    },
    {
      "metadata": {
        "_uuid": "0ec9a3516910c2c36dad462d353de9e0a91168fb"
      },
      "cell_type": "markdown",
      "source": "### helper function to find missing values"
    },
    {
      "metadata": {
        "trusted": true,
        "_uuid": "84ced89826254f85590e8f76bbe2349dac3986a0"
      },
      "cell_type": "code",
      "source": "\ndef missing_values(data):\n    total = data.isnull().sum().sort_values(ascending = False) # getting the sum of null values and ordering\n    percent = (data.isnull().sum() / data.isnull().count() * 100 ).sort_values(ascending = False) #getting the percent and order of null\n    df = pd.concat([total, percent], axis=1, keys=['Total', 'Percent']) # Concatenating the total and percent\n    print(\"Total columns at least one Values: \")\n    print (df[~(df['Total'] == 0)]) \n    \n    print(\"\\n Total of Sales % of Total: \", round((train_df[train_df['totals.transactionRevenue'] != np.nan]['totals.transactionRevenue'].count() / len(train_df['totals.transactionRevenue']) * 100),4))\n    \n    return \n\nmissing_values(train_df)",
      "execution_count": null,
      "outputs": []
    },
    {
      "metadata": {
        "_uuid": "1b0d4cf264de68c3eda7cb8f573cce6e09411873"
      },
      "cell_type": "markdown",
      "source": "### Our target variable 'totals.transactionRevenue' presents 98.91% of missing  values, let's explore it"
    },
    {
      "metadata": {
        "trusted": true,
        "_uuid": "ac1f0443e5d97b8e46cfa17815a4ca2832a9c5b3"
      },
      "cell_type": "code",
      "source": "#converting from object to float\ntrain_df['totals.transactionRevenue'] = train_df['totals.transactionRevenue'].astype('float')",
      "execution_count": null,
      "outputs": []
    },
    {
      "metadata": {
        "_uuid": "3478994d3eff450d4df41a583118b1cec9b2ed05"
      },
      "cell_type": "markdown",
      "source": "### basic statistics about the target variable : min,mean,median,max"
    },
    {
      "metadata": {
        "trusted": true,
        "_uuid": "0a7c2a2907aa6a3ae24191be51ae3c60bf3e5f4a"
      },
      "cell_type": "code",
      "source": "print(\"Transaction Revenue Min Value: \", \n      train_df[train_df['totals.transactionRevenue'] > 0][\"totals.transactionRevenue\"].min()) # printing the min value\nprint(\"Transaction Revenue Mean Value: \", \n      train_df[train_df['totals.transactionRevenue'] > 0][\"totals.transactionRevenue\"].mean()) # mean value\nprint(\"Transaction Revenue Median Value: \", \n      train_df[train_df['totals.transactionRevenue'] > 0][\"totals.transactionRevenue\"].median()) # median value\nprint(\"Transaction Revenue Max Value: \", \n      train_df[train_df['totals.transactionRevenue'] > 0][\"totals.transactionRevenue\"].max()) # the max value\n\nplt.figure(figsize=(14,5))\nplt.subplot(1,2,1)\n\n#histogram of log(revenue+1)\nax = sns.distplot(np.log(train_df[train_df['totals.transactionRevenue'] > 0][\"totals.transactionRevenue\"] + 1), bins=40, kde=True)\nax.set_xlabel('Transaction RevenueLog', fontsize=15) \nax.set_ylabel('Distribuition', fontsize=15)\nax.set_title(\"Distribuition of Revenue Log\", fontsize=20) \n\nplt.subplot(1,2,2)\n# ordering the total of users and seting the values of transactions to understanding \nplt.scatter(range(train_df.shape[0]), np.sort(train_df['totals.transactionRevenue'].values))\nplt.xlabel('Index', fontsize=15) \nplt.ylabel('Revenue value', fontsize=15) \nplt.title(\"Revenue Value Distribution\", fontsize=20) \n\nplt.show()",
      "execution_count": null,
      "outputs": []
    },
    {
      "metadata": {
        "_uuid": "97f94f89336e5e06412f395f603a478565d18834"
      },
      "cell_type": "markdown",
      "source": "### what we can take from here is:\n###  - that the rule 80/20 been proven to be true, even worse, 98.9% of clients do not generate any revenue.\n###  - the log function has allowed us to have a normal distribution over the revenue with mean value around 18\n"
    },
    {
      "metadata": {
        "_uuid": "38f1f9e966394a32867fdc2228e7eeec6e177f75"
      },
      "cell_type": "markdown",
      "source": "### helper function to check outliers"
    },
    {
      "metadata": {
        "trusted": true,
        "_uuid": "95b77f61c54daf638cdb07fc295f751d8badf041"
      },
      "cell_type": "code",
      "source": "def checkOutliers(data): \n\n    # calculating mean and std of the array\n    data_mean, data_std = np.mean(data), np.std(data)\n\n    # seting the cut line to both higher and lower values\n    cut_line = data_std * 3\n\n    #Calculating the higher and lower cut values\n    lower, upper = data_mean - cut_line, data_mean + cut_line\n\n    # creating an array of lower, higher and total outlier values \n    outliers_lower = [x for x in data if x < lower]\n    outliers_higher = [x for x in data if x > upper]\n    outliers_total = [x for x in data if x < lower or x > upper]\n\n    # array without outlier values\n    outliers_removed = [x for x in data if x > lower and x < upper]\n    \n    print('Identified lowest outliers: %d' % len(outliers_lower)) \n    print('Identified upper outliers: %d' % len(outliers_higher)) \n    print('Identified outliers: %d' % len(outliers_total)) \n    print('Non-outlier observations: %d' % len(outliers_removed))\n    print(\"Total percentual of Outliers: \", round((len(outliers_total) / len(outliers_removed) )*100, 4)) \n    \n    return",
      "execution_count": null,
      "outputs": []
    },
    {
      "metadata": {
        "trusted": true,
        "_uuid": "41d0cb797a00c84b6fac6aa3293d60e6f3abac07"
      },
      "cell_type": "code",
      "source": "print(\"Outliers in totals.transactionRevenue: \\n\", \"\\n\")\ncheckOutliers(train_df['totals.transactionRevenue'])",
      "execution_count": null,
      "outputs": []
    },
    {
      "metadata": {
        "_uuid": "d735c148de41fc42deb2039739c737b7f3bd6ca4"
      },
      "cell_type": "markdown",
      "source": "## 3) Visualization"
    },
    {
      "metadata": {
        "_uuid": "73f354bc5771a580e280cb83e6ac795b18d8e37f"
      },
      "cell_type": "markdown",
      "source": "### in this part we are going to visualize some of the variables present in the training data "
    },
    {
      "metadata": {
        "_uuid": "7ed09d90ea6e6b04f9ca86acdab33ff36a610ef4"
      },
      "cell_type": "markdown",
      "source": "### Channel Grouping"
    },
    {
      "metadata": {
        "_uuid": "7626d403912017a5a25d25d3abd8902221a9a04c"
      },
      "cell_type": "markdown",
      "source": "### helper function for visualization"
    },
    {
      "metadata": {
        "trusted": true,
        "_uuid": "6435ac160c4317949c0a84f62ed22048dc7f9737"
      },
      "cell_type": "code",
      "source": "def visualizeMostFrequent(columnName,top = 5):\n    print(\"Percentual of Browser usage: \\n \")\n    print(train_df[columnName].value_counts()[:top])\n    \n    fig = plt.figure(figsize = (10,8))\n    plt.subplot(2,1,1)\n    sns.countplot(train_df[train_df[columnName]\\\n                       .isin(train_df[columnName]\\\n                             .value_counts()[:top].index.values)][columnName], palette=\"hls\") \n    plt.title(\"TOP \"+ str(top) +\" Most Frequent \"+ columnName, fontsize=20) \n    plt.ylabel(\"Count\", fontsize=16) \n    plt.xticks(rotation=45) \n    fig.tight_layout()\n    plt.subplot(2,1,2)\n    \n    #It's another way to plot our data. using a variable that contains the plot parameters\n    ax = sns.boxenplot(x=columnName, y='totals.transactionRevenue', \n                       data=train_df[(train_df[columnName].isin((train_df[columnName].value_counts()[:top].index.values))) &\n                                      train_df['totals.transactionRevenue'] > 0])\n    ax.set_title(columnName+' Name by Transactions Revenue', fontsize=20) # title and fontsize\n    ax.set_xticklabels(ax.get_xticklabels(),rotation=45) # It's the way to rotate the xticks when we use variable to our graphs\n    ax.set_xlabel(columnName+' Names', fontsize=18)\n    ax.set_ylabel('TransactionRevenue(log)', fontsize=18) \n    plt.show() \n    \n    return\n    ",
      "execution_count": null,
      "outputs": []
    },
    {
      "metadata": {
        "trusted": true,
        "_uuid": "bb0600cf754002a08a9cbafb55c0d4a70946fb5c",
        "scrolled": true
      },
      "cell_type": "code",
      "source": "visualizeMostFrequent('channelGrouping')",
      "execution_count": null,
      "outputs": []
    },
    {
      "metadata": {
        "_uuid": "b1d73e9842caec7d53978496ee19b9af1f680bbf"
      },
      "cell_type": "markdown",
      "source": "### As we can see, Organic search is the most frequent channel grouping. However, this does not mean it is the one that generates the most of  the revenue"
    },
    {
      "metadata": {
        "_uuid": "ada3e2af2939f04c825cf10a710864903f6edad6"
      },
      "cell_type": "markdown",
      "source": "### Browsers"
    },
    {
      "metadata": {
        "trusted": true,
        "_uuid": "9079826dc51996d41d9de20237d79b92e4169fe5"
      },
      "cell_type": "code",
      "source": "visualizeMostFrequent('device.browser')",
      "execution_count": null,
      "outputs": []
    },
    {
      "metadata": {
        "_uuid": "2a79f3a112e75f291db5836a1715b86a9bbea586"
      },
      "cell_type": "markdown",
      "source": "# Device Category"
    },
    {
      "metadata": {
        "trusted": true,
        "_uuid": "8505cbbec554c999b940f81e46fa52a7e4ccd805"
      },
      "cell_type": "code",
      "source": "visualizeMostFrequent('device.deviceCategory', top = 3)",
      "execution_count": null,
      "outputs": []
    },
    {
      "metadata": {
        "_uuid": "d16e694ab33d37e9475e9fa28a09164bc98567fb"
      },
      "cell_type": "markdown",
      "source": "# Operating System"
    },
    {
      "metadata": {
        "trusted": true,
        "_uuid": "4737d0c14c53fea692d3f9e58e9a1c22a9c4f482"
      },
      "cell_type": "code",
      "source": "visualizeMostFrequent('device.operatingSystem', top = 5)",
      "execution_count": null,
      "outputs": []
    },
    {
      "metadata": {
        "trusted": true,
        "_uuid": "2d3e65dc5e7a01b632311bd00416e0900ca0682c"
      },
      "cell_type": "code",
      "source": "# we fill missing values in totals.transactionRevenue with 0\ntrain_df['totals.transactionRevenue'].fillna(0, inplace = True)",
      "execution_count": null,
      "outputs": []
    },
    {
      "metadata": {
        "trusted": true,
        "_uuid": "1b91be04a47b6814c7e3aa9ebfbc9ba091d29e97"
      },
      "cell_type": "code",
      "source": "print('Total records: ', len(train_df), 'customers do not contribute for revenue: ',train_df['totals.transactionRevenue'].isna().sum(), \\\n      'customers contributing revenue: ',len(train_df) - train_df['totals.transactionRevenue'].isna().sum())",
      "execution_count": null,
      "outputs": []
    },
    {
      "metadata": {
        "_uuid": "98bc285bfdf3c80e97d58e532f83fc76c2381bf9"
      },
      "cell_type": "markdown",
      "source": "### Exploring the time and number visits"
    },
    {
      "metadata": {
        "trusted": true,
        "_uuid": "c19374a8ffee06db1daee29963de5cdff5709f03"
      },
      "cell_type": "code",
      "source": "train_df['date']= pd.to_datetime(train_df['date'],format='%Y%m%d')\ntest_df['date']= pd.to_datetime(test_df['date'],format='%Y%m%d')",
      "execution_count": null,
      "outputs": []
    },
    {
      "metadata": {
        "trusted": true,
        "_uuid": "be5bd85a22963d61841b589fd0fa413010a22d9c"
      },
      "cell_type": "code",
      "source": "#Lets analyze how the visits and transactionRevenue trend with date\n#Yearly pattern\n\nplot_df = train_df.groupby(by=['date']).agg({'fullVisitorId':'count',\n                                        'totals.transactionRevenue':'sum'}).reset_index()\n\nfig = plt.figure(figsize=(15, 8))\nplt.subplot(2, 1, 1)\nplt.plot(pd.to_datetime(plot_df['date']), plot_df['totals.transactionRevenue'])\nplt.ylabel('Revenue')\n#plt.xticks(rotation=90)\n\nplt.subplot(2,1,2)\nplt.plot(pd.to_datetime(plot_df['date']),plot_df['fullVisitorId'])\nplt.ylabel('Visits')",
      "execution_count": null,
      "outputs": []
    },
    {
      "metadata": {
        "trusted": true,
        "_uuid": "29eec0c31513178c60554e8c869e875a42baabc6"
      },
      "cell_type": "code",
      "source": "#Weekly pattern\n\nplot_df = train_df.groupby(by=['date']).agg({'fullVisitorId':'count','totals.transactionRevenue':'sum'})\n\nplot_df = plot_df.resample('W').mean()\n\nplt.figure(figsize=(15,8))\nplt.subplot(2,1,1)\nplt.plot(plot_df.index,plot_df['totals.transactionRevenue'])\nplt.ylabel('Revenue')\n\nplt.subplot(2,1,2)\nplt.plot(plot_df.index,plot_df['fullVisitorId'])\nplt.ylabel('Visits');",
      "execution_count": null,
      "outputs": []
    },
    {
      "metadata": {
        "_uuid": "329806f7d8ccb38c05258a79ea84991e124df483"
      },
      "cell_type": "markdown",
      "source": "Number of visits drasitically increases from October and reduces in December. But that didnt contribute much on revenue. As only one year of data available, we cannot identify any YoY pattern of data."
    },
    {
      "metadata": {
        "trusted": true,
        "_uuid": "eb0bd084a659ef7b0fee8af08f34239fe21c66c0"
      },
      "cell_type": "code",
      "source": "train_df.drop(labels = ['date'], axis = 1, inplace = True)\ntest_df.drop(labels = ['date'], axis = 1, inplace = True)",
      "execution_count": null,
      "outputs": []
    },
    {
      "metadata": {
        "_uuid": "415100a11fceb0df49ae2a5f61a4e3f0c061ce5e"
      },
      "cell_type": "markdown",
      "source": "### Exploring the geoNetwork column"
    },
    {
      "metadata": {
        "_uuid": "9ff0758c233a399742a9c5217d0a56aea863f341"
      },
      "cell_type": "markdown",
      "source": "### computing the occurence of each category present in each of geoNetwork subcolumns"
    },
    {
      "metadata": {
        "trusted": true,
        "_uuid": "93e21385a11c4d6b78899ae05971ccc286bb319f"
      },
      "cell_type": "code",
      "source": "geofields = ['geoNetwork.city','geoNetwork.continent',\n             'geoNetwork.country','geoNetwork.metro',\n             'geoNetwork.networkDomain','geoNetwork.region',\n             'geoNetwork.subContinent']\n\nfor fields in geofields:\n    temp_df = train_df.groupby(by=fields).size().sort_values(ascending=False).head(10)\n    print(temp_df)\n    print('*'*30)",
      "execution_count": null,
      "outputs": []
    },
    {
      "metadata": {
        "trusted": true,
        "_uuid": "c2fd443dde46b3d7d90e6875f5331c3563d49030"
      },
      "cell_type": "code",
      "source": "def getplot(df1, df2, groupfield):\n    fig =plt.figure(figsize=(15,8))\n    plt.subplot(2,1,1)\n    plot_df = df1.groupby(by=[groupfield])['totals.transactionRevenue'].size().reset_index()\n    plot_df = plot_df.sort_values(by=['totals.transactionRevenue'], ascending=False).head(10)\n    plt1 = plt.bar(plot_df[groupfield],plot_df['totals.transactionRevenue'])\n\n    plt.subplot(2,1,2)\n    plot_df = df2.groupby(by=[groupfield])['totals.transactionRevenue'].size().reset_index()\n    plot_df = plot_df.sort_values(by=['totals.transactionRevenue'], ascending=False).head(10)\n    plt2 = plt.bar(plot_df[groupfield],plot_df['totals.transactionRevenue'])\n    for ax in fig.axes:\n        plt.sca(ax)\n        plt.xticks(rotation=15)\n    #fig.tight_layout()\n    return plt1, plt2",
      "execution_count": null,
      "outputs": []
    },
    {
      "metadata": {
        "_uuid": "9a048befab2e986e5eda3905cdeed36375c4e657"
      },
      "cell_type": "markdown",
      "source": "### creating two seperate Data Frames "
    },
    {
      "metadata": {
        "trusted": true,
        "_uuid": "7ac68353b67d97593046d7942f01d0ccf167734d"
      },
      "cell_type": "code",
      "source": "transaction_df = train_df[train_df['totals.transactionRevenue'] >0.0]\nnontransaction_df = train_df[train_df['totals.transactionRevenue'] == 0.0]",
      "execution_count": null,
      "outputs": []
    },
    {
      "metadata": {
        "trusted": true,
        "_uuid": "976b3e5e8ab5831de2062e6c50a18bc061f415dd"
      },
      "cell_type": "code",
      "source": "getplot(transaction_df,nontransaction_df,'geoNetwork.country');",
      "execution_count": null,
      "outputs": []
    },
    {
      "metadata": {
        "_uuid": "724b1caf53196f736491aafcd434dd0b41c405b8"
      },
      "cell_type": "markdown",
      "source": "\n- We can say that if country == Venezuela, Taiwan,Mexico,Australia,Signapore then the revenue is not zero\n- There is not a clear relation between revenue and country"
    },
    {
      "metadata": {
        "trusted": true,
        "_uuid": "ed8838ca8b794782c419b86a69ee3ac38d5e5733"
      },
      "cell_type": "code",
      "source": "getplot(transaction_df,nontransaction_df,'geoNetwork.city');",
      "execution_count": null,
      "outputs": []
    },
    {
      "metadata": {
        "trusted": true,
        "_uuid": "e3f695447207960921dc70d2b1e7dc093cd87fc4"
      },
      "cell_type": "code",
      "source": "getplot(transaction_df,nontransaction_df,'geoNetwork.continent');",
      "execution_count": null,
      "outputs": []
    },
    {
      "metadata": {
        "trusted": true,
        "_uuid": "25d7df154f75068c35c612668f840012f7c2df59"
      },
      "cell_type": "code",
      "source": "getplot(transaction_df,nontransaction_df,'geoNetwork.metro');",
      "execution_count": null,
      "outputs": []
    },
    {
      "metadata": {
        "_uuid": "baed8d93564536bc14e5afd93d6167b1364c3a45"
      },
      "cell_type": "markdown",
      "source": "the majority of the metro column is not avaibable in the data set"
    },
    {
      "metadata": {
        "trusted": true,
        "_uuid": "805893dd536d2c985916bccd82def56a79af12f1"
      },
      "cell_type": "code",
      "source": "getplot(transaction_df,nontransaction_df,'geoNetwork.networkDomain');",
      "execution_count": null,
      "outputs": []
    },
    {
      "metadata": {
        "_uuid": "d346d05051b18ec97304796e08fcacc0caa2e064"
      },
      "cell_type": "markdown",
      "source": "not set is dominant over all other categorities"
    },
    {
      "metadata": {
        "trusted": true,
        "_uuid": "5cb446198a91ade7802e81e15c39d59a62aaf64d"
      },
      "cell_type": "code",
      "source": "getplot(transaction_df,nontransaction_df,'geoNetwork.subContinent');",
      "execution_count": null,
      "outputs": []
    },
    {
      "metadata": {
        "_uuid": "0689fe8a6238bcf5c0b9895d6820ed88fdb3a49a"
      },
      "cell_type": "markdown",
      "source": "Lets drop labels other than city and subcontinent. As city is the lower granular level in geo. As most values in city is 'not available' lets keep another variable subcontinent as an additional field."
    },
    {
      "metadata": {
        "trusted": true,
        "_uuid": "095510722a6c793fed2a3970fe62336391e7da91"
      },
      "cell_type": "code",
      "source": "train_df.drop(labels=['geoNetwork.region','geoNetwork.networkDomain','geoNetwork.metro',\n                              'geoNetwork.continent','geoNetwork.country'],\n                      axis=1, inplace = True)\ntest_df.drop(labels=['geoNetwork.region','geoNetwork.networkDomain','geoNetwork.metro',\n                                'geoNetwork.continent','geoNetwork.country'],\n                        axis=1,inplace = True)",
      "execution_count": null,
      "outputs": []
    },
    {
      "metadata": {
        "trusted": true,
        "_uuid": "948760992e5c454f7b59f70e012658ec3717ba6f"
      },
      "cell_type": "code",
      "source": "getplot(transaction_df,nontransaction_df,'trafficSource.source')",
      "execution_count": null,
      "outputs": []
    },
    {
      "metadata": {
        "trusted": true,
        "_uuid": "bc8f977f2e681fb1ab077c41103d495f4d2cbcb5"
      },
      "cell_type": "code",
      "source": "train_df.drop(labels=['trafficSource.adwordsClickInfo.adNetworkType', 'trafficSource.adwordsClickInfo.gclId',\n                               'trafficSource.adwordsClickInfo.page', 'trafficSource.adwordsClickInfo.slot',\n                               'trafficSource.medium', 'trafficSource.medium', 'trafficSource.referralPath','trafficSource.source','trafficSource.keyword','trafficSource.adContent'],\n                       axis=1,inplace = True)\ntest_df.drop(labels=['trafficSource.adwordsClickInfo.adNetworkType', 'trafficSource.adwordsClickInfo.gclId',\n                                 'trafficSource.adwordsClickInfo.page', 'trafficSource.adwordsClickInfo.slot',\n                                 'trafficSource.medium', 'trafficSource.medium', 'trafficSource.referralPath','trafficSource.source','trafficSource.keyword','trafficSource.adContent'],\n                         axis=1,inplace = True)\nprint(train_df.shape)\ntrain_df.head()",
      "execution_count": null,
      "outputs": []
    },
    {
      "metadata": {
        "trusted": true,
        "_uuid": "685d09305a44a93dccf51f2569ec0fc36e5a2524"
      },
      "cell_type": "code",
      "source": "train_df.fillna('0',inplace=True)\ntest_df.fillna('0',inplace=True)",
      "execution_count": null,
      "outputs": []
    },
    {
      "metadata": {
        "_uuid": "c2baaf263a310bbaa46e7d1bc73bb2ed82facd59"
      },
      "cell_type": "markdown",
      "source": "## 4) Encoding Part "
    },
    {
      "metadata": {
        "_uuid": "7b073b08d3caa555969bde70f7523c4bbb6d4f29"
      },
      "cell_type": "markdown",
      "source": "### helper function to convert to dummies variables"
    },
    {
      "metadata": {
        "trusted": true,
        "_uuid": "0cfc45a13305fc521683ef517daddb158c30db0a"
      },
      "cell_type": "code",
      "source": "def convert_category_todummies(df,field):\n    #print('Processing ', field)\n    dummy_df = pd.get_dummies(df[field])\n    df = pd.concat([df,dummy_df],axis=1)\n    df.drop(labels=[field],axis=1,inplace=True)\n    return df",
      "execution_count": null,
      "outputs": []
    },
    {
      "metadata": {
        "trusted": true,
        "_uuid": "9cb65b0ed0475b0423fd9b4cf35cbce3cc0bf0d4"
      },
      "cell_type": "code",
      "source": "def convert_category_tolevel(df,field):\n    df[field],index = pd.factorize(df[field])\n    return df",
      "execution_count": null,
      "outputs": []
    },
    {
      "metadata": {
        "trusted": true,
        "_uuid": "b7e30cfe3f7a95078e4e0b1127e75372217fd839"
      },
      "cell_type": "code",
      "source": "toDrop = list(test_df.columns.difference(train_df.columns))\ntest_df.drop(labels = toDrop, axis = 1, inplace = True)",
      "execution_count": null,
      "outputs": []
    },
    {
      "metadata": {
        "trusted": true,
        "_uuid": "20d2e65bf9f03e7e3e50b7f050f3acbe8a838712"
      },
      "cell_type": "code",
      "source": "toConvert = ['totals.pageviews','totals.hits','totals.sessionQualityDim','totals.timeOnSite','totals.transactions']\n\nfor column in toConvert:\n    train_df[column] = train_df[column].astype(int)\n    test_df[column] = test_df[column].astype(int)",
      "execution_count": null,
      "outputs": []
    },
    {
      "metadata": {
        "_uuid": "afa22fc23b1ca505793f95ecbbe3d50aac7fb288"
      },
      "cell_type": "markdown",
      "source": "### merging the two data Frames"
    },
    {
      "metadata": {
        "trusted": true,
        "_uuid": "34ea990fc66fd634ff905299ffb40aba350bde45"
      },
      "cell_type": "code",
      "source": "train_size = train_df.shape[0]\nmerged_df = pd.concat([train_df,test_df])\n\nprint('Before: ', merged_df.shape)\ncolumns = merged_df.columns\nfor fields in columns:\n    if merged_df[fields].dtype == 'object' and fields not in ['fullVisitorId','method']:\n        print('Unique values for ', fields, len(merged_df[fields].unique()), merged_df[fields].unique())\n        if len(merged_df[fields].unique()) > 40:\n            print('Level conversion')\n            merged_df[fields] = convert_category_tolevel(merged_df,fields)\n            merged_df[fields] = merged_df[fields].astype('int')\n        else:\n            print('One hot conversion')\n            merged_df = convert_category_todummies(merged_df,fields)\n            #merged_df = merged_df.drop(labels=[fields],axis=1)\nprint('After: ', merged_df.shape)",
      "execution_count": null,
      "outputs": []
    },
    {
      "metadata": {
        "trusted": true,
        "_uuid": "1bf2823e3c26b65c5fb226fa500f0d9ea7d572d8"
      },
      "cell_type": "code",
      "source": "merged_df['totals.transactionRevenue'] = np.log1p(merged_df['totals.transactionRevenue'])\ntrain_df = merged_df.iloc[:train_size]\ntest_df = merged_df[train_size:]\ntest_df.drop(labels=['totals.transactionRevenue'],axis=1, inplace = True)\nprint(train_df.shape, test_df.shape)",
      "execution_count": null,
      "outputs": []
    },
    {
      "metadata": {
        "trusted": true,
        "_uuid": "9905047a6b7835d2ae1a3688789ef7843eadea53"
      },
      "cell_type": "code",
      "source": "#we need to predict log revenue per customer. Lets group by full visitor id\ntrain_df = train_df.groupby(by=['fullVisitorId']).mean()\ntrain_df.shape",
      "execution_count": null,
      "outputs": []
    },
    {
      "metadata": {
        "_uuid": "4da049edf5e3e8cf779c44808337230e4a38c4ad"
      },
      "cell_type": "markdown",
      "source": "### creating the target variable "
    },
    {
      "metadata": {
        "trusted": true,
        "_uuid": "96eeb5295eada9878a71bb5a0deec57c81af27b4"
      },
      "cell_type": "code",
      "source": "train_label = train_df['totals.transactionRevenue']\ntrain_df.drop(labels=['totals.transactionRevenue'],axis=1, inplace = True)",
      "execution_count": null,
      "outputs": []
    },
    {
      "metadata": {
        "_uuid": "0efb34629415c8d0239319504739d45b42b66c96"
      },
      "cell_type": "markdown",
      "source": "### normalizing the train and test data "
    },
    {
      "metadata": {
        "trusted": true,
        "_uuid": "d4945db01d4216b3c641fa5fb7ab6e0776486fac"
      },
      "cell_type": "code",
      "source": "from sklearn.preprocessing import MinMaxScaler\nscaler1 = MinMaxScaler()\nscaled_df = scaler1.fit_transform(train_df.values)\ntrain_df = pd.DataFrame(scaled_df, columns=train_df.columns)",
      "execution_count": null,
      "outputs": []
    },
    {
      "metadata": {
        "trusted": true,
        "_uuid": "ad182cd2e01fed5794c5e3761807c7cf3986a415"
      },
      "cell_type": "code",
      "source": "test_df = test_df.groupby(by=['fullVisitorId']).mean()\nvisitorid = test_df.index\nscaled_test = scaler1.transform(test_df)\ntest_df = pd.DataFrame(scaled_test,columns=test_df.columns)",
      "execution_count": null,
      "outputs": []
    },
    {
      "metadata": {
        "_uuid": "bb354d8e2644aef10ee74e8279a0b9dd486d83b9"
      },
      "cell_type": "markdown",
      "source": "# Modeling"
    },
    {
      "metadata": {
        "_uuid": "69d483d5b40ac8ae5066b62708afd039d2747b8f"
      },
      "cell_type": "markdown",
      "source": "## 1) Linear Regression"
    },
    {
      "metadata": {
        "trusted": true,
        "_uuid": "e01293da2c3d489b383c73b5aaa0bd74cd07714a"
      },
      "cell_type": "code",
      "source": "from sklearn.linear_model import LinearRegression\nlr = LinearRegression(n_jobs = -1)\nlr.fit(train_df,train_label)",
      "execution_count": null,
      "outputs": []
    },
    {
      "metadata": {
        "trusted": true,
        "_uuid": "cef1512abedc03b0a3b6730d0ca77aa202aee350"
      },
      "cell_type": "markdown",
      "source": "### helper function to compute the error"
    },
    {
      "metadata": {
        "trusted": true,
        "_uuid": "e8a67085a2025674b78a0b8f8e7fa202d3e71a4c"
      },
      "cell_type": "code",
      "source": "import numpy as np \nfrom sklearn.metrics import mean_squared_error\ndef compute_rmse(y_pred,y_truth):\n    return np.sqrt(mean_squared_error(y_pred,y_truth))",
      "execution_count": null,
      "outputs": []
    },
    {
      "metadata": {
        "trusted": true,
        "_uuid": "8ac05e40ae892da2d6c707b79db45418d43620cd"
      },
      "cell_type": "code",
      "source": "print(\"LR--RMSE-- on TRAIN: \",compute_rmse(train_label,lr.predict(train_df)))",
      "execution_count": null,
      "outputs": []
    },
    {
      "metadata": {
        "_uuid": "8dbd52049aefea96eb1a3d0d37201564089d05f4"
      },
      "cell_type": "markdown",
      "source": "## 2) Decision Tree Regression"
    },
    {
      "metadata": {
        "trusted": true,
        "_uuid": "960c5a1e0b03a2759944ce5bd986aa6611f13ae2"
      },
      "cell_type": "code",
      "source": "from sklearn.tree import DecisionTreeRegressor \nfrom sklearn.model_selection import cross_val_score\ndtr = DecisionTreeRegressor(random_state = 2018)\ndtr.fit(train_df,train_label)",
      "execution_count": null,
      "outputs": []
    },
    {
      "metadata": {
        "trusted": true,
        "_uuid": "481a2a5c1fab025c4e56596a1cd668aa7377cb4f"
      },
      "cell_type": "code",
      "source": "print(\"DecisionTreeRegressor--RMSE-- on TRAIN: \",compute_rmse(train_label,dtr.predict(train_df)))",
      "execution_count": null,
      "outputs": []
    },
    {
      "metadata": {
        "_uuid": "16fc16a18149d8a4dd40f02d4f242d54738c6c65"
      },
      "cell_type": "markdown",
      "source": "### helper function to make submission"
    },
    {
      "metadata": {
        "trusted": true,
        "_uuid": "4c9c2cdec8056ecbd16b5780b60145628c694b9a"
      },
      "cell_type": "code",
      "source": "def make_submission(y_pred_test,file_name):\n    submission = pd.DataFrame({'fullVisitorId':visitorid,'PredictedLogRevenue':y_pred_test})\n    submission['fullVisitorId']= submission['fullVisitorId'].astype(str)\n    submission['PredictedLogRevenue']=submission['PredictedLogRevenue'].apply(lambda x: 0 if x<0 else x)\n\n    submission.to_csv(file_name+'.csv',index=False)\n    \n    return ",
      "execution_count": null,
      "outputs": []
    },
    {
      "metadata": {
        "trusted": true,
        "_uuid": "01e8e09d4e772ed35798c0b47ded0b9e60e3adce"
      },
      "cell_type": "code",
      "source": "make_submission(dtr.predict(test_df),'decisionTree')",
      "execution_count": null,
      "outputs": []
    },
    {
      "metadata": {
        "_uuid": "94728f413767da6dcef64080810aceecee040977"
      },
      "cell_type": "markdown",
      "source": "### We encountered overfitting problem "
    },
    {
      "metadata": {
        "_uuid": "5bb2b2253d3ae85dbfca6887529a80f319de7781"
      },
      "cell_type": "markdown",
      "source": "## 3) Random Forests"
    },
    {
      "metadata": {
        "trusted": true,
        "_uuid": "58c8fe11f451046d87dcbe0dff59ce42acfacb90"
      },
      "cell_type": "code",
      "source": "from sklearn.ensemble import RandomForestRegressor\n\nrfr = RandomForestRegressor(n_estimators = 20,random_state = 2018,n_jobs = -1)\nrfr.fit(train_df,train_label)",
      "execution_count": null,
      "outputs": []
    },
    {
      "metadata": {
        "trusted": true,
        "_uuid": "5887179f94ceac5bf400bf462490f1fe33dfbb7a"
      },
      "cell_type": "code",
      "source": "print(\"RandomForestRegressor--RMSE-- on TRAIN: \",compute_rmse(train_label,rfr.predict(train_df)))",
      "execution_count": null,
      "outputs": []
    },
    {
      "metadata": {
        "trusted": true,
        "_uuid": "08a38662068a582baa568f08bcd51ca1da815a95"
      },
      "cell_type": "code",
      "source": "make_submission(rfr.predict(test_df),'randomForest')",
      "execution_count": null,
      "outputs": []
    },
    {
      "metadata": {
        "_uuid": "a807f100a7096438d23d36c3b2a5f5a90ff205b5"
      },
      "cell_type": "markdown",
      "source": "### still overfitting"
    },
    {
      "metadata": {
        "trusted": true,
        "_uuid": "0682bc871f9052139da1d85be42c9ca730bdca6d"
      },
      "cell_type": "code",
      "source": "import lightgbm as lgb\nlgb_data = lgb.Dataset(train_df, label=train_label)\nlgb_params = {\n        \"objective\" : \"regression\",\n        \"metric\" : \"rmse\",\n        \"num_leaves\" : 40,\n        \"max_depth\" : 10,\n        \"boosting\" : \"gbdt\",\n        \"learning_rate\" : 0.2,\n        \"bagging_fraction\" : 0.7,\n        \"feature_fraction\" : 0.95,\n        'reg_alpha':1,\n        \"bagging_seed\" : 42, \"seed\":42}\nnum_boost_rounds_lgb = 1000\nmodel_lgb = lgb.train(lgb_params, lgb_data,num_boost_round=num_boost_rounds_lgb)",
      "execution_count": null,
      "outputs": []
    },
    {
      "metadata": {
        "trusted": true,
        "_uuid": "5305acbd9b5327599f58999d406e7e1a0d440482"
      },
      "cell_type": "code",
      "source": "print(\"GradientBoostingRegressor--RMSE-- on TRAIN: \",compute_rmse(train_label,model_lgb.predict(train_df)))",
      "execution_count": null,
      "outputs": []
    },
    {
      "metadata": {
        "trusted": true,
        "_uuid": "36dda63c6276bf6cdbceffd83908f0d058d1fc6b"
      },
      "cell_type": "code",
      "source": "make_submission(model_lgb.predict(test_df),'lgb')",
      "execution_count": null,
      "outputs": []
    },
    {
      "metadata": {
        "_uuid": "56480a473f9e0ab083621bf2f4a7c29f4f4a9e18"
      },
      "cell_type": "markdown",
      "source": "### better performance on the test set "
    },
    {
      "metadata": {
        "_uuid": "2675bfe58c8483db9522bcb401124c37e5bd6b31"
      },
      "cell_type": "markdown",
      "source": "### Is stacking possible, let's compute correlations "
    },
    {
      "metadata": {
        "trusted": true,
        "_uuid": "80330c4632f2c5634f1688fae05796e467182a88"
      },
      "cell_type": "code",
      "source": "y1 = lr.predict(train_df)\ny2 = dtr.predict(train_df)\ny3 = rfr.predict(train_df)\ny4 = model_lgb.predict(train_df)",
      "execution_count": null,
      "outputs": []
    },
    {
      "metadata": {
        "trusted": true,
        "_uuid": "34d8a6b12b23ad8bee2d82ab2b562518e7c66359"
      },
      "cell_type": "code",
      "source": "y1 = pd.DataFrame(y1)\ny2 = pd.DataFrame(y2)\ny3 = pd.DataFrame(y3)\ny4 = pd.DataFrame(y4)",
      "execution_count": null,
      "outputs": []
    },
    {
      "metadata": {
        "trusted": true,
        "_uuid": "47ba6e67996a4055a747ae7b8b215f5de6bed933"
      },
      "cell_type": "code",
      "source": "preds = pd.concat([y1,y2,y3,y4,], axis = 1)\npreds.columns = ['linearRegression','decisionTree','randomForest','gradientBoosting']",
      "execution_count": null,
      "outputs": []
    },
    {
      "metadata": {
        "trusted": true,
        "_uuid": "a4bc650b7e9527853a172274457a91e55d63c479"
      },
      "cell_type": "code",
      "source": "corrs = preds.corr()\ncorrs.style",
      "execution_count": null,
      "outputs": []
    },
    {
      "metadata": {
        "_uuid": "075eb87baa30970104226be7870f2e1541aad419"
      },
      "cell_type": "markdown",
      "source": "### all the outputs are highly correlated"
    },
    {
      "metadata": {
        "trusted": true,
        "_uuid": "23ffc5ea1886f4f0e0c8257ea1d10a80007edc63"
      },
      "cell_type": "code",
      "source": "from sklearn.model_selection import GridSearchCV\n\ngridParams = {\n    'learning_rate': [0.2,0.25,0.3],\n    'n_estimators': [1000,1100],\n    'num_leaves': [30,40],\n    'boosting_type' : ['gbdt'],\n    'objective' : ['regression'],\n    'feature_fraction' : [0.95],\n    'bagging_seed':[42],'seed':[42]\n    }\nmdl = lgb.LGBMRegressor(boosting_type= 'gbdt',objective = \"regression\",metric = \"rmse\",\n        num_leaves = 40,\n        max_depth = 100,\n        boosting = \"gbdt\",\n        learning_rate = 0.2,\n        bagging_fraction = 0.7,\n        feature_fraction = 0.95,\n        bagging_seed = 42, seed = 42)\n\ngrid = GridSearchCV(mdl, gridParams,verbose=0,cv=3,n_jobs= -1)",
      "execution_count": null,
      "outputs": []
    }
  ],
  "metadata": {
    "kernelspec": {
      "display_name": "Python 3",
      "language": "python",
      "name": "python3"
    },
    "language_info": {
      "name": "python",
      "version": "3.6.6",
      "mimetype": "text/x-python",
      "codemirror_mode": {
        "name": "ipython",
        "version": 3
      },
      "pygments_lexer": "ipython3",
      "nbconvert_exporter": "python",
      "file_extension": ".py"
    }
  },
  "nbformat": 4,
  "nbformat_minor": 1
}